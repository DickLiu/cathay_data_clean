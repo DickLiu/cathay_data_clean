{
 "cells": [
  {
   "cell_type": "code",
   "execution_count": 29,
   "metadata": {},
   "outputs": [],
   "source": [
    "import pandas as pd\n",
    "import numpy as np\n",
    "from os import listdir\n",
    "from os.path import isfile, join\n",
    "import cn2an\n",
    "pd.set_option('display.max_columns', 50)\n",
    "pd.set_option('display.max_rows', 500)"
   ]
  },
  {
   "cell_type": "code",
   "execution_count": 30,
   "metadata": {},
   "outputs": [],
   "source": [
    "def check_for_nulls(df):\n",
    "    \"\"\"\n",
    "    Test and report number of NAs in each column of the input data frame\n",
    "    :param df: pandas.DataFrame\n",
    "    :return: None\n",
    "    \"\"\"\n",
    "    for col in df.columns.values:\n",
    "        num_nans = np.sum(df[col].isnull())\n",
    "        if num_nans > 0:\n",
    "            print('%d Nans in col %s' % (num_nans, col))\n",
    "    print('New shape of df: ', df.shape)"
   ]
  },
  {
   "cell_type": "code",
   "execution_count": 31,
   "metadata": {},
   "outputs": [],
   "source": [
    "file_path = r\"C:\\Users\\Dick\\Desktop\\Trading\\001_Futures\\Backtest\\notebook\\20200216_Cathay\"\n",
    "suffix = \"_lvr_land_a.csv\""
   ]
  },
  {
   "cell_type": "code",
   "execution_count": 32,
   "metadata": {},
   "outputs": [],
   "source": [
    "path_files = [f for f in listdir(file_path) if isfile(join(file_path, f))]"
   ]
  },
  {
   "cell_type": "code",
   "execution_count": 33,
   "metadata": {},
   "outputs": [],
   "source": [
    "target_files = list()\n",
    "for _f in path_files:\n",
    "    if _f.endswith(suffix):\n",
    "        target_files.append(_f)"
   ]
  },
  {
   "cell_type": "code",
   "execution_count": 34,
   "metadata": {},
   "outputs": [
    {
     "name": "stdout",
     "output_type": "stream",
     "text": [
      "['a_lvr_land_a.csv', 'b_lvr_land_a.csv', 'e_lvr_land_a.csv', 'f_lvr_land_a.csv', 'h_lvr_land_a.csv']\n"
     ]
    }
   ],
   "source": [
    "print(target_files)"
   ]
  },
  {
   "cell_type": "code",
   "execution_count": 35,
   "metadata": {},
   "outputs": [],
   "source": [
    "# idx = pd.IndexSlice to_do\n",
    "df_a = pd.read_csv(target_files[0], sep=\",\", header=0, skiprows=[1])\n",
    "df_b = pd.read_csv(target_files[1], sep=\",\", header=0, skiprows=[1])\n",
    "df_e = pd.read_csv(target_files[2], sep=\",\", header=0, skiprows=[1])\n",
    "df_f = pd.read_csv(target_files[3], sep=\",\", header=0, skiprows=[1])\n",
    "df_h = pd.read_csv(target_files[4], sep=\",\", header=0, skiprows=[1])"
   ]
  },
  {
   "cell_type": "code",
   "execution_count": 36,
   "metadata": {},
   "outputs": [],
   "source": [
    "df_all = pd.concat([df_a, df_b, df_e, df_f, df_h])\n",
    "df_all = df_all.reset_index(drop=True)"
   ]
  },
  {
   "cell_type": "code",
   "execution_count": 37,
   "metadata": {},
   "outputs": [
    {
     "name": "stdout",
     "output_type": "stream",
     "text": [
      "628 Nans in col 都市土地使用分區\n",
      "6122 Nans in col 非都市土地使用分區\n",
      "6123 Nans in col 非都市土地使用編定\n",
      "1189 Nans in col 移轉層次\n",
      "1194 Nans in col 總樓層數\n",
      "1361 Nans in col 主要用途\n",
      "1189 Nans in col 主要建材\n",
      "1300 Nans in col 建築完成年月\n",
      "164 Nans in col 單價元平方公尺\n",
      "3836 Nans in col 車位類別\n",
      "4382 Nans in col 備註\n",
      "New shape of df:  (6706, 28)\n"
     ]
    }
   ],
   "source": [
    "check_for_nulls(df_all)"
   ]
  },
  {
   "cell_type": "code",
   "execution_count": 38,
   "metadata": {
    "scrolled": true
   },
   "outputs": [
    {
     "data": {
      "text/plain": [
       "鄉鎮市區             object\n",
       "交易標的             object\n",
       "土地區段位置建物區段門牌     object\n",
       "土地移轉總面積平方公尺     float64\n",
       "都市土地使用分區         object\n",
       "非都市土地使用分區        object\n",
       "非都市土地使用編定        object\n",
       "交易年月日             int64\n",
       "交易筆棟數            object\n",
       "移轉層次             object\n",
       "總樓層數             object\n",
       "建物型態             object\n",
       "主要用途             object\n",
       "主要建材             object\n",
       "建築完成年月          float64\n",
       "建物移轉總面積平方公尺     float64\n",
       "建物現況格局-房          int64\n",
       "建物現況格局-廳          int64\n",
       "建物現況格局-衛          int64\n",
       "建物現況格局-隔間        object\n",
       "有無管理組織           object\n",
       "總價元               int64\n",
       "單價元平方公尺         float64\n",
       "車位類別             object\n",
       "車位移轉總面積平方公尺     float64\n",
       "車位總價元             int64\n",
       "備註               object\n",
       "編號               object\n",
       "dtype: object"
      ]
     },
     "execution_count": 38,
     "metadata": {},
     "output_type": "execute_result"
    }
   ],
   "source": [
    "df_all.dtypes"
   ]
  },
  {
   "cell_type": "code",
   "execution_count": 39,
   "metadata": {},
   "outputs": [
    {
     "data": {
      "text/plain": [
       "array(['鄉鎮市區', '交易標的', '土地區段位置建物區段門牌', '土地移轉總面積平方公尺', '都市土地使用分區',\n",
       "       '非都市土地使用分區', '非都市土地使用編定', '交易年月日', '交易筆棟數', '移轉層次', '總樓層數', '建物型態',\n",
       "       '主要用途', '主要建材', '建築完成年月', '建物移轉總面積平方公尺', '建物現況格局-房', '建物現況格局-廳',\n",
       "       '建物現況格局-衛', '建物現況格局-隔間', '有無管理組織', '總價元', '單價元平方公尺', '車位類別',\n",
       "       '車位移轉總面積平方公尺', '車位總價元', '備註', '編號'], dtype=object)"
      ]
     },
     "execution_count": 39,
     "metadata": {},
     "output_type": "execute_result"
    }
   ],
   "source": [
    "df_all.columns.values"
   ]
  },
  {
   "cell_type": "code",
   "execution_count": 41,
   "metadata": {},
   "outputs": [],
   "source": [
    "# 將總樓層數轉化成數字\n",
    "# df_a[\"總樓層數\"] = df_a[df_a[\"總樓層數\"].isnull() != True][\"總樓層數\"].apply(lambda x: cn2an.cn2an(x[:-1], \"normal\"))\n",
    "df_all[\"總樓層數\"] = df_all[df_all[\"總樓層數\"].isnull() != True][\"總樓層數\"].apply(lambda x: cn2an.cn2an(x[:-1], \"normal\"))"
   ]
  },
  {
   "cell_type": "code",
   "execution_count": 42,
   "metadata": {},
   "outputs": [],
   "source": [
    "# select 主要用途為\"住家用\"\n",
    "_cond1 = df_all[\"主要用途\"].str.contains(\"住家用\", na=False)\n",
    "# df_a.loc[df_a[\"主要用途\"] == \"住家用\", \"主要用途\"]\n",
    "# df_a.loc[df_a[\"主要用途\"].str.contains(\"住家用\", na=False), \"主要用途\"]\n",
    "# df_all.loc[df_all[\"主要用途\"].str.contains(\"住家用\", na=False), \"主要用途\"]\n",
    "\n",
    "# select 建物型態為 包含\"住宅大樓\"\n",
    "_cond2 = df_all[\"主要用途\"].str.contains(\"住家用\", na=False)\n",
    "# df_a.loc[df_a[\"建物型態\"].str.contains(\"住宅大樓\", na=False), \"建物型態\"]\n",
    "# df_all.loc[df_all[\"建物型態\"].str.contains(\"住宅大樓\", na=False), \"建物型態\"]\n",
    "\n",
    "# df_a.loc[df_a[\"總樓層數\"].isnull() != True & df_a[\"總樓層數\"] >= 13.0, \"總樓層數\"]\n",
    "_cond3 = df_all[\"總樓層數\"].isnull() != True\n",
    "_cond4 = df_all[\"總樓層數\"] >= 13.0\n",
    "\n",
    "df_all_a = df_all.loc[_cond1 & _cond2 & _cond3 & _cond4  , :]"
   ]
  },
  {
   "cell_type": "code",
   "execution_count": 46,
   "metadata": {},
   "outputs": [],
   "source": [
    "df_all_a = df_all_a.reset_index(drop=True)\n",
    "df_all_a.to_csv(\"filter_a.csv\", index=False)"
   ]
  },
  {
   "cell_type": "code",
   "execution_count": 47,
   "metadata": {},
   "outputs": [],
   "source": [
    "# 分割交易筆棟數資訊成 3個個別欄位\n",
    "transaction_pen_number = df_all[\"交易筆棟數\"].str.split(r\"\\D+\", expand=True)\n",
    "\n",
    "df_all[\"交易筆棟數_土地\"] = transaction_pen_number.iloc[:, 1]\n",
    "df_all[\"交易筆棟數_建物\"] = transaction_pen_number.iloc[:, 2]\n",
    "df_all[\"交易筆棟數_車位\"] = transaction_pen_number.iloc[:, 3]\n",
    "\n",
    "# 轉換欄位類型\n",
    "df_all = df_all.astype({'交易筆棟數_土地': 'int32',\n",
    "                       '交易筆棟數_建物': 'int32',\n",
    "                       '交易筆棟數_車位': 'int32'})"
   ]
  },
  {
   "cell_type": "code",
   "execution_count": 28,
   "metadata": {},
   "outputs": [
    {
     "name": "stdout",
     "output_type": "stream",
     "text": [
      "總件數:6706\n",
      "總車位數:3360\n",
      "平均總價元:15254421.616164628\n",
      "平均車位總價元:926934.744047619\n"
     ]
    }
   ],
   "source": [
    "# 計算 總件數\n",
    "print(\"總件數:{}\".format(df_all.shape[0]))\n",
    "\n",
    "# 計算 總車位數\n",
    "print(\"總車位數:{}\".format(df_all[\"交易筆棟數_車位\"].sum()))\n",
    "\n",
    "# 計算 平均總價元\n",
    "print(\"平均總價元:{}\".format(df_all[\"總價元\"].sum() / df_all.shape[0]))\n",
    "\n",
    "# 計算 平均車位總價元\n",
    "print(\"平均車位總價元:{}\".format(df_all[\"車位總價元\"].sum() / df_all[\"交易筆棟數_車位\"].sum()))"
   ]
  },
  {
   "cell_type": "code",
   "execution_count": 51,
   "metadata": {},
   "outputs": [],
   "source": [
    "data_dict = {\"總件數\": [df_all.shape[0]],\n",
    "             \"總車位數\": [df_all[\"交易筆棟數_車位\"].sum()],\n",
    "             \"平均總價元\": [df_all[\"總價元\"].sum() / df_all.shape[0]],\n",
    "             \"平均車位總價元\": [df_all[\"車位總價元\"].sum() / df_all[\"交易筆棟數_車位\"].sum()]}\n",
    "filter_b = pd.DataFrame(data=data_dict)"
   ]
  },
  {
   "cell_type": "code",
   "execution_count": 52,
   "metadata": {},
   "outputs": [],
   "source": [
    "filter_b.to_csv(\"filter_b.csv\", index=False)"
   ]
  },
  {
   "cell_type": "code",
   "execution_count": null,
   "metadata": {},
   "outputs": [],
   "source": []
  }
 ],
 "metadata": {
  "kernelspec": {
   "display_name": "Python 3",
   "language": "python",
   "name": "python3"
  },
  "language_info": {
   "codemirror_mode": {
    "name": "ipython",
    "version": 3
   },
   "file_extension": ".py",
   "mimetype": "text/x-python",
   "name": "python",
   "nbconvert_exporter": "python",
   "pygments_lexer": "ipython3",
   "version": "3.7.4"
  }
 },
 "nbformat": 4,
 "nbformat_minor": 2
}
